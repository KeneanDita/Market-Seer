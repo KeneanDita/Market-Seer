{
 "cells": [
  {
   "cell_type": "code",
   "execution_count": 1,
   "id": "054face0-85bb-439f-b77b-a0228148443b",
   "metadata": {},
   "outputs": [],
   "source": [
    "import pandas as pd \n",
    "import numpy as np \n",
    "import matplotlib.pyplot as plt \n",
    "import seaborn as sns"
   ]
  },
  {
   "cell_type": "code",
   "execution_count": 2,
   "id": "31744dc3-d751-4bc4-9cd0-695bdb2ae61d",
   "metadata": {},
   "outputs": [],
   "source": [
    "data = pd.read_csv('Dataset/sp500.csv')"
   ]
  },
  {
   "cell_type": "code",
   "execution_count": 4,
   "id": "6707569e-6866-4a0f-9b88-da6f2c3d0c2d",
   "metadata": {},
   "outputs": [
    {
     "data": {
      "application/vnd.dataresource+json": {
       "data": [
        {
         "Close": 16.6599998474,
         "Date": "1950-01-03",
         "Dividends": 0,
         "High": 16.6599998474,
         "Low": 16.6599998474,
         "Open": 16.6599998474,
         "Stock Splits": 0,
         "Volume": 1260000,
         "index": 0
        },
        {
         "Close": 16.8500003815,
         "Date": "1950-01-04",
         "Dividends": 0,
         "High": 16.8500003815,
         "Low": 16.8500003815,
         "Open": 16.8500003815,
         "Stock Splits": 0,
         "Volume": 1890000,
         "index": 1
        },
        {
         "Close": 16.9300003052,
         "Date": "1950-01-05",
         "Dividends": 0,
         "High": 16.9300003052,
         "Low": 16.9300003052,
         "Open": 16.9300003052,
         "Stock Splits": 0,
         "Volume": 2550000,
         "index": 2
        },
        {
         "Close": 16.9799995422,
         "Date": "1950-01-06",
         "Dividends": 0,
         "High": 16.9799995422,
         "Low": 16.9799995422,
         "Open": 16.9799995422,
         "Stock Splits": 0,
         "Volume": 2010000,
         "index": 3
        },
        {
         "Close": 17.0799999237,
         "Date": "1950-01-09",
         "Dividends": 0,
         "High": 17.0799999237,
         "Low": 17.0799999237,
         "Open": 17.0799999237,
         "Stock Splits": 0,
         "Volume": 2520000,
         "index": 4
        }
       ],
       "schema": {
        "fields": [
         {
          "name": "index",
          "type": "integer"
         },
         {
          "name": "Date",
          "type": "string"
         },
         {
          "name": "Open",
          "type": "number"
         },
         {
          "name": "High",
          "type": "number"
         },
         {
          "name": "Low",
          "type": "number"
         },
         {
          "name": "Close",
          "type": "number"
         },
         {
          "name": "Volume",
          "type": "integer"
         },
         {
          "name": "Dividends",
          "type": "integer"
         },
         {
          "name": "Stock Splits",
          "type": "integer"
         }
        ],
        "pandas_version": "1.4.0",
        "primaryKey": [
         "index"
        ]
       }
      },
      "text/html": [
       "<div>\n",
       "<style scoped>\n",
       "    .dataframe tbody tr th:only-of-type {\n",
       "        vertical-align: middle;\n",
       "    }\n",
       "\n",
       "    .dataframe tbody tr th {\n",
       "        vertical-align: top;\n",
       "    }\n",
       "\n",
       "    .dataframe thead th {\n",
       "        text-align: right;\n",
       "    }\n",
       "</style>\n",
       "<table border=\"1\" class=\"dataframe\">\n",
       "  <thead>\n",
       "    <tr style=\"text-align: right;\">\n",
       "      <th></th>\n",
       "      <th>Date</th>\n",
       "      <th>Open</th>\n",
       "      <th>High</th>\n",
       "      <th>Low</th>\n",
       "      <th>Close</th>\n",
       "      <th>Volume</th>\n",
       "      <th>Dividends</th>\n",
       "      <th>Stock Splits</th>\n",
       "    </tr>\n",
       "  </thead>\n",
       "  <tbody>\n",
       "    <tr>\n",
       "      <th>0</th>\n",
       "      <td>1950-01-03</td>\n",
       "      <td>16.66</td>\n",
       "      <td>16.66</td>\n",
       "      <td>16.66</td>\n",
       "      <td>16.66</td>\n",
       "      <td>1260000</td>\n",
       "      <td>0</td>\n",
       "      <td>0</td>\n",
       "    </tr>\n",
       "    <tr>\n",
       "      <th>1</th>\n",
       "      <td>1950-01-04</td>\n",
       "      <td>16.85</td>\n",
       "      <td>16.85</td>\n",
       "      <td>16.85</td>\n",
       "      <td>16.85</td>\n",
       "      <td>1890000</td>\n",
       "      <td>0</td>\n",
       "      <td>0</td>\n",
       "    </tr>\n",
       "    <tr>\n",
       "      <th>2</th>\n",
       "      <td>1950-01-05</td>\n",
       "      <td>16.93</td>\n",
       "      <td>16.93</td>\n",
       "      <td>16.93</td>\n",
       "      <td>16.93</td>\n",
       "      <td>2550000</td>\n",
       "      <td>0</td>\n",
       "      <td>0</td>\n",
       "    </tr>\n",
       "    <tr>\n",
       "      <th>3</th>\n",
       "      <td>1950-01-06</td>\n",
       "      <td>16.98</td>\n",
       "      <td>16.98</td>\n",
       "      <td>16.98</td>\n",
       "      <td>16.98</td>\n",
       "      <td>2010000</td>\n",
       "      <td>0</td>\n",
       "      <td>0</td>\n",
       "    </tr>\n",
       "    <tr>\n",
       "      <th>4</th>\n",
       "      <td>1950-01-09</td>\n",
       "      <td>17.08</td>\n",
       "      <td>17.08</td>\n",
       "      <td>17.08</td>\n",
       "      <td>17.08</td>\n",
       "      <td>2520000</td>\n",
       "      <td>0</td>\n",
       "      <td>0</td>\n",
       "    </tr>\n",
       "  </tbody>\n",
       "</table>\n",
       "</div>"
      ],
      "text/plain": [
       "         Date   Open   High    Low  Close   Volume  Dividends  Stock Splits\n",
       "0  1950-01-03  16.66  16.66  16.66  16.66  1260000          0             0\n",
       "1  1950-01-04  16.85  16.85  16.85  16.85  1890000          0             0\n",
       "2  1950-01-05  16.93  16.93  16.93  16.93  2550000          0             0\n",
       "3  1950-01-06  16.98  16.98  16.98  16.98  2010000          0             0\n",
       "4  1950-01-09  17.08  17.08  17.08  17.08  2520000          0             0"
      ]
     },
     "execution_count": 4,
     "metadata": {},
     "output_type": "execute_result"
    }
   ],
   "source": [
    "data.head()"
   ]
  },
  {
   "cell_type": "code",
   "execution_count": 6,
   "id": "5098778f-b234-4197-b08a-7b4fe6d60cb1",
   "metadata": {},
   "outputs": [
    {
     "name": "stdout",
     "output_type": "stream",
     "text": [
      "<class 'pandas.core.frame.DataFrame'>\n",
      "RangeIndex: 18292 entries, 0 to 18291\n",
      "Data columns (total 8 columns):\n",
      " #   Column        Non-Null Count  Dtype  \n",
      "---  ------        --------------  -----  \n",
      " 0   Date          18292 non-null  object \n",
      " 1   Open          18292 non-null  float64\n",
      " 2   High          18292 non-null  float64\n",
      " 3   Low           18292 non-null  float64\n",
      " 4   Close         18292 non-null  float64\n",
      " 5   Volume        18292 non-null  int64  \n",
      " 6   Dividends     18292 non-null  int64  \n",
      " 7   Stock Splits  18292 non-null  int64  \n",
      "dtypes: float64(4), int64(3), object(1)\n",
      "memory usage: 1.1+ MB\n"
     ]
    }
   ],
   "source": [
    "data.info()"
   ]
  },
  {
   "cell_type": "code",
   "execution_count": 7,
   "id": "f98b0180-9845-4905-9ba3-dcccd8fd2a84",
   "metadata": {
    "scrolled": true
   },
   "outputs": [
    {
     "data": {
      "application/vnd.dataresource+json": {
       "data": [
        {
         "Close": 18292,
         "Dividends": 18292,
         "High": 18292,
         "Low": 18292,
         "Open": 18292,
         "Stock Splits": 18292,
         "Volume": 18292,
         "index": "count"
        },
        {
         "Close": 723.4231444352,
         "Dividends": 0,
         "High": 727.5954407928,
         "Low": 718.6762691012,
         "Open": 697.0084531781,
         "Stock Splits": 0,
         "Volume": 1079258000.7150667,
         "index": "mean"
        },
        {
         "Close": 949.7827221743,
         "Dividends": 0,
         "High": 954.9762269273,
         "Low": 943.8654723928,
         "Open": 967.7958111272,
         "Stock Splits": 0,
         "Volume": 1676948446.9074914,
         "index": "std"
        },
        {
         "Close": 16.6599998474,
         "Dividends": 0,
         "High": 16.6599998474,
         "Low": 16.6599998474,
         "Open": 0,
         "Stock Splits": 0,
         "Volume": 0,
         "index": "min"
        },
        {
         "Close": 87.7200012207,
         "Dividends": 0,
         "High": 88.4750022888,
         "Low": 86.9775028229,
         "Open": 0,
         "Stock Splits": 0,
         "Volume": 9910000,
         "index": "25%"
        },
        {
         "Close": 235.560005188,
         "Dividends": 0,
         "High": 236.8499984741,
         "Low": 233.9349975586,
         "Open": 235.4850006104,
         "Stock Splits": 0,
         "Volume": 127400000,
         "index": "50%"
        },
        {
         "Close": 1178.1099853516,
         "Dividends": 0,
         "High": 1185.1650085449,
         "Low": 1169.640045166,
         "Open": 1178.0500183105,
         "Stock Splits": 0,
         "Volume": 1560400000,
         "index": "75%"
        },
        {
         "Close": 4796.5600585938,
         "Dividends": 0,
         "High": 4818.6201171875,
         "Low": 4780.0400390625,
         "Open": 4804.509765625,
         "Stock Splits": 0,
         "Volume": 11456230000,
         "index": "max"
        }
       ],
       "schema": {
        "fields": [
         {
          "name": "index",
          "type": "string"
         },
         {
          "name": "Open",
          "type": "number"
         },
         {
          "name": "High",
          "type": "number"
         },
         {
          "name": "Low",
          "type": "number"
         },
         {
          "name": "Close",
          "type": "number"
         },
         {
          "name": "Volume",
          "type": "number"
         },
         {
          "name": "Dividends",
          "type": "number"
         },
         {
          "name": "Stock Splits",
          "type": "number"
         }
        ],
        "pandas_version": "1.4.0",
        "primaryKey": [
         "index"
        ]
       }
      },
      "text/html": [
       "<div>\n",
       "<style scoped>\n",
       "    .dataframe tbody tr th:only-of-type {\n",
       "        vertical-align: middle;\n",
       "    }\n",
       "\n",
       "    .dataframe tbody tr th {\n",
       "        vertical-align: top;\n",
       "    }\n",
       "\n",
       "    .dataframe thead th {\n",
       "        text-align: right;\n",
       "    }\n",
       "</style>\n",
       "<table border=\"1\" class=\"dataframe\">\n",
       "  <thead>\n",
       "    <tr style=\"text-align: right;\">\n",
       "      <th></th>\n",
       "      <th>Open</th>\n",
       "      <th>High</th>\n",
       "      <th>Low</th>\n",
       "      <th>Close</th>\n",
       "      <th>Volume</th>\n",
       "      <th>Dividends</th>\n",
       "      <th>Stock Splits</th>\n",
       "    </tr>\n",
       "  </thead>\n",
       "  <tbody>\n",
       "    <tr>\n",
       "      <th>count</th>\n",
       "      <td>18292.000000</td>\n",
       "      <td>18292.000000</td>\n",
       "      <td>18292.000000</td>\n",
       "      <td>18292.000000</td>\n",
       "      <td>1.829200e+04</td>\n",
       "      <td>18292.0</td>\n",
       "      <td>18292.0</td>\n",
       "    </tr>\n",
       "    <tr>\n",
       "      <th>mean</th>\n",
       "      <td>697.008453</td>\n",
       "      <td>727.595441</td>\n",
       "      <td>718.676269</td>\n",
       "      <td>723.423144</td>\n",
       "      <td>1.079258e+09</td>\n",
       "      <td>0.0</td>\n",
       "      <td>0.0</td>\n",
       "    </tr>\n",
       "    <tr>\n",
       "      <th>std</th>\n",
       "      <td>967.795811</td>\n",
       "      <td>954.976227</td>\n",
       "      <td>943.865472</td>\n",
       "      <td>949.782722</td>\n",
       "      <td>1.676948e+09</td>\n",
       "      <td>0.0</td>\n",
       "      <td>0.0</td>\n",
       "    </tr>\n",
       "    <tr>\n",
       "      <th>min</th>\n",
       "      <td>0.000000</td>\n",
       "      <td>16.660000</td>\n",
       "      <td>16.660000</td>\n",
       "      <td>16.660000</td>\n",
       "      <td>0.000000e+00</td>\n",
       "      <td>0.0</td>\n",
       "      <td>0.0</td>\n",
       "    </tr>\n",
       "    <tr>\n",
       "      <th>25%</th>\n",
       "      <td>0.000000</td>\n",
       "      <td>88.475002</td>\n",
       "      <td>86.977503</td>\n",
       "      <td>87.720001</td>\n",
       "      <td>9.910000e+06</td>\n",
       "      <td>0.0</td>\n",
       "      <td>0.0</td>\n",
       "    </tr>\n",
       "    <tr>\n",
       "      <th>50%</th>\n",
       "      <td>235.485001</td>\n",
       "      <td>236.849998</td>\n",
       "      <td>233.934998</td>\n",
       "      <td>235.560005</td>\n",
       "      <td>1.274000e+08</td>\n",
       "      <td>0.0</td>\n",
       "      <td>0.0</td>\n",
       "    </tr>\n",
       "    <tr>\n",
       "      <th>75%</th>\n",
       "      <td>1178.050018</td>\n",
       "      <td>1185.165009</td>\n",
       "      <td>1169.640045</td>\n",
       "      <td>1178.109985</td>\n",
       "      <td>1.560400e+09</td>\n",
       "      <td>0.0</td>\n",
       "      <td>0.0</td>\n",
       "    </tr>\n",
       "    <tr>\n",
       "      <th>max</th>\n",
       "      <td>4804.509766</td>\n",
       "      <td>4818.620117</td>\n",
       "      <td>4780.040039</td>\n",
       "      <td>4796.560059</td>\n",
       "      <td>1.145623e+10</td>\n",
       "      <td>0.0</td>\n",
       "      <td>0.0</td>\n",
       "    </tr>\n",
       "  </tbody>\n",
       "</table>\n",
       "</div>"
      ],
      "text/plain": [
       "               Open          High           Low         Close        Volume  \\\n",
       "count  18292.000000  18292.000000  18292.000000  18292.000000  1.829200e+04   \n",
       "mean     697.008453    727.595441    718.676269    723.423144  1.079258e+09   \n",
       "std      967.795811    954.976227    943.865472    949.782722  1.676948e+09   \n",
       "min        0.000000     16.660000     16.660000     16.660000  0.000000e+00   \n",
       "25%        0.000000     88.475002     86.977503     87.720001  9.910000e+06   \n",
       "50%      235.485001    236.849998    233.934998    235.560005  1.274000e+08   \n",
       "75%     1178.050018   1185.165009   1169.640045   1178.109985  1.560400e+09   \n",
       "max     4804.509766   4818.620117   4780.040039   4796.560059  1.145623e+10   \n",
       "\n",
       "       Dividends  Stock Splits  \n",
       "count    18292.0       18292.0  \n",
       "mean         0.0           0.0  \n",
       "std          0.0           0.0  \n",
       "min          0.0           0.0  \n",
       "25%          0.0           0.0  \n",
       "50%          0.0           0.0  \n",
       "75%          0.0           0.0  \n",
       "max          0.0           0.0  "
      ]
     },
     "execution_count": 7,
     "metadata": {},
     "output_type": "execute_result"
    }
   ],
   "source": [
    "data.describe()"
   ]
  },
  {
   "cell_type": "code",
   "execution_count": 9,
   "id": "5d7e922e-248c-4609-afdd-af7d10159a57",
   "metadata": {},
   "outputs": [
    {
     "data": {
      "application/vnd.dataresource+json": {
       "data": [
        {
         "index": "Date",
         "values": 0
        },
        {
         "index": "Open",
         "values": 0
        },
        {
         "index": "High",
         "values": 0
        },
        {
         "index": "Low",
         "values": 0
        },
        {
         "index": "Close",
         "values": 0
        },
        {
         "index": "Volume",
         "values": 0
        },
        {
         "index": "Dividends",
         "values": 0
        },
        {
         "index": "Stock Splits",
         "values": 0
        }
       ],
       "schema": {
        "fields": [
         {
          "name": "index",
          "type": "string"
         },
         {
          "name": "values",
          "type": "integer"
         }
        ],
        "pandas_version": "1.4.0",
        "primaryKey": [
         "index"
        ]
       }
      },
      "text/plain": [
       "Date            0\n",
       "Open            0\n",
       "High            0\n",
       "Low             0\n",
       "Close           0\n",
       "Volume          0\n",
       "Dividends       0\n",
       "Stock Splits    0\n",
       "dtype: int64"
      ]
     },
     "execution_count": 9,
     "metadata": {},
     "output_type": "execute_result"
    }
   ],
   "source": [
    "data.isnull().sum()"
   ]
  },
  {
   "cell_type": "code",
   "execution_count": null,
   "id": "511d7502-e84b-4602-9c96-b8ec351e8ace",
   "metadata": {},
   "outputs": [],
   "source": []
  }
 ],
 "metadata": {
  "kernelspec": {
   "display_name": "Python 3 (ipykernel)",
   "language": "python",
   "name": "python3"
  },
  "language_info": {
   "codemirror_mode": {
    "name": "ipython",
    "version": 3
   },
   "file_extension": ".py",
   "mimetype": "text/x-python",
   "name": "python",
   "nbconvert_exporter": "python",
   "pygments_lexer": "ipython3",
   "version": "3.12.7"
  }
 },
 "nbformat": 4,
 "nbformat_minor": 5
}
