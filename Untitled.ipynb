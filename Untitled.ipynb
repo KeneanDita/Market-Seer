{
 "cells": [
  {
   "cell_type": "code",
   "execution_count": 1,
   "id": "5d7e922e-248c-4609-afdd-af7d10159a57",
   "metadata": {},
   "outputs": [],
   "source": [
    "import yfinance as yf"
   ]
  },
  {
   "cell_type": "code",
   "execution_count": 2,
   "id": "511d7502-e84b-4602-9c96-b8ec351e8ace",
   "metadata": {},
   "outputs": [],
   "source": [
    "sp500 = yf.Ticker(\"^GSPC\")"
   ]
  },
  {
   "cell_type": "code",
   "execution_count": 3,
   "id": "3b3edeb1-211e-4860-8148-2e272c8609b6",
   "metadata": {},
   "outputs": [],
   "source": [
    "sp500 = sp500.history(period=\"max\")"
   ]
  },
  {
   "cell_type": "code",
   "execution_count": 4,
   "id": "65b982f1-60e1-4f21-bc4d-50dbb1b2d574",
   "metadata": {},
   "outputs": [
    {
     "data": {
      "text/plain": [
       "(24464, 7)"
      ]
     },
     "execution_count": 4,
     "metadata": {},
     "output_type": "execute_result"
    }
   ],
   "source": [
    "sp500.shape"
   ]
  },
  {
   "cell_type": "code",
   "execution_count": 8,
   "id": "073027f2-faf6-4a55-9a4f-35fba499158a",
   "metadata": {},
   "outputs": [],
   "source": [
    "import pandas as pd\n",
    "sp500.to_csv(\"sp500.csv\", index=False)"
   ]
  },
  {
   "cell_type": "code",
   "execution_count": 10,
   "id": "f7a084ad-f9cf-4c17-9854-71501ffaaa69",
   "metadata": {},
   "outputs": [
    {
     "data": {
      "text/plain": [
       "DatetimeIndex(['1927-12-30 00:00:00-05:00', '1928-01-03 00:00:00-05:00',\n",
       "               '1928-01-04 00:00:00-05:00', '1928-01-05 00:00:00-05:00',\n",
       "               '1928-01-06 00:00:00-05:00', '1928-01-09 00:00:00-05:00',\n",
       "               '1928-01-10 00:00:00-05:00', '1928-01-11 00:00:00-05:00',\n",
       "               '1928-01-12 00:00:00-05:00', '1928-01-13 00:00:00-05:00',\n",
       "               ...\n",
       "               '2025-05-09 00:00:00-04:00', '2025-05-12 00:00:00-04:00',\n",
       "               '2025-05-13 00:00:00-04:00', '2025-05-14 00:00:00-04:00',\n",
       "               '2025-05-15 00:00:00-04:00', '2025-05-16 00:00:00-04:00',\n",
       "               '2025-05-19 00:00:00-04:00', '2025-05-20 00:00:00-04:00',\n",
       "               '2025-05-21 00:00:00-04:00', '2025-05-22 00:00:00-04:00'],\n",
       "              dtype='datetime64[ns, America/New_York]', name='Date', length=24464, freq=None)"
      ]
     },
     "execution_count": 10,
     "metadata": {},
     "output_type": "execute_result"
    }
   ],
   "source": [
    "sp500.index"
   ]
  },
  {
   "cell_type": "code",
   "execution_count": null,
   "id": "b13f3b78-7c8b-46f9-8314-964880c4b191",
   "metadata": {},
   "outputs": [],
   "source": []
  }
 ],
 "metadata": {
  "kernelspec": {
   "display_name": "Python 3 (ipykernel)",
   "language": "python",
   "name": "python3"
  },
  "language_info": {
   "codemirror_mode": {
    "name": "ipython",
    "version": 3
   },
   "file_extension": ".py",
   "mimetype": "text/x-python",
   "name": "python",
   "nbconvert_exporter": "python",
   "pygments_lexer": "ipython3",
   "version": "3.12.7"
  }
 },
 "nbformat": 4,
 "nbformat_minor": 5
}
